{
 "cells": [
  {
   "cell_type": "code",
   "execution_count": 2,
   "metadata": {},
   "outputs": [],
   "source": [
    "import numpy as np\n",
    "import PIL\n",
    "from PIL import Image\n",
    "from sklearn import datasets\n",
    "from sklearn.model_selection import train_test_split"
   ]
  },
  {
   "cell_type": "markdown",
   "metadata": {},
   "source": [
    "# 1. Download the Dataset and Understand the Format"
   ]
  },
  {
   "cell_type": "code",
   "execution_count": null,
   "metadata": {},
   "outputs": [],
   "source": [
    "#Downloaded in the project directory"
   ]
  },
  {
   "cell_type": "markdown",
   "metadata": {},
   "source": [
    "# 2. Generate the Data Matrix and the Label vector"
   ]
  },
  {
   "cell_type": "code",
   "execution_count": 7,
   "metadata": {},
   "outputs": [
    {
     "name": "stdout",
     "output_type": "stream",
     "text": [
      "400\n",
      "10304\n"
     ]
    }
   ],
   "source": [
    "i = 0\n",
    "s = 1\n",
    "x = 1\n",
    "d = [0] * 400\n",
    "y = [0] * 400\n",
    "\n",
    "while i < 400:\n",
    "  image = PIL.Image.open(\"dataset/s\" + str(s) + \"/\" + str(x) + \".pgm\")\n",
    "  image_sequence = image.getdata()\n",
    "  image_array = np.array(image_sequence)\n",
    "  d[i] = image_array\n",
    "  y[i] = s\n",
    "  i = i + 1\n",
    "  x = x + 1\n",
    "  if x == 11:\n",
    "    s = s + 1\n",
    "    x = 1"
   ]
  },
  {
   "cell_type": "markdown",
   "metadata": {},
   "source": [
    "# 3. Split the Dataset into Training and Test sets"
   ]
  },
  {
   "cell_type": "code",
   "execution_count": 48,
   "metadata": {},
   "outputs": [],
   "source": [
    "training_data = [0] * 200\n",
    "testing_data = [0] * 200\n",
    "training_labels = [0] * 200\n",
    "testing_labels = [0] * 200\n",
    "curr_index = 0"
   ]
  },
  {
   "cell_type": "code",
   "execution_count": 49,
   "metadata": {},
   "outputs": [],
   "source": [
    "for i in range(1, 400, 2):\n",
    "  curr_index = int(i / 2);\n",
    "  testing_data[curr_index] = d[i]\n",
    "  testing_labels[curr_index] = y[i]\n",
    "  training_data[curr_index] = d[i - 1]\n",
    "  training_labels[curr_index] = y[i - 1]\n",
    "\n",
    "testing_data = np.array(testing_data)\n",
    "testing_labels = np.array(testing_labels)\n",
    "training_data = np.array(training_data)\n",
    "training_labels = np.array(training_labels)"
   ]
  },
  {
   "cell_type": "markdown",
   "metadata": {},
   "source": [
    "# 4. Classification using PCA"
   ]
  },
  {
   "cell_type": "code",
   "execution_count": null,
   "metadata": {},
   "outputs": [],
   "source": []
  },
  {
   "cell_type": "code",
   "execution_count": null,
   "metadata": {},
   "outputs": [],
   "source": []
  },
  {
   "cell_type": "markdown",
   "metadata": {},
   "source": [
    "# 5. Classification Using LDA "
   ]
  },
  {
   "cell_type": "code",
   "execution_count": 6,
   "metadata": {},
   "outputs": [],
   "source": [
    "def center_function(d):\n",
    "    m = np.mean(d, axis=0)\n",
    "    return np.subtract(d, m)"
   ]
  },
  {
   "cell_type": "code",
   "execution_count": 7,
   "metadata": {},
   "outputs": [],
   "source": [
    "def lda(data, l, dom, n_class, features):\n",
    "  # Calculate the mean of feature for every class\n",
    "  # Mean matrix is 10304x1 dim\n",
    "  cdata = []\n",
    "  for i in range(0, len(data), l):\n",
    "    cdata.append(data[i:i+l])\n",
    "  mean_c = []\n",
    "  for i in range(n_class):\n",
    "    mean_c.append(np.mean(cdata[i], axis=0))\n",
    "  if n_class != 2:\n",
    "    tmean = np.mean(data, axis=0) \n",
    "\n",
    "  # Calculate between-class scatter matrix\n",
    "  # B matrix is 10304 x 10304\n",
    "  bmat = np.zeros((features, features))\n",
    "  if n_class == 2:\n",
    "    sub = np.subtract(mean_c[0], mean_c[1])\n",
    "    bmat = np.dot(sub, sub.T)\n",
    "  else:\n",
    "    tm = tmean[:, np.newaxis]\n",
    "    for i in range(n_class):\n",
    "      mc = mean_c[i][:, np.newaxis]\n",
    "      sub = np.subtract(mc, tm)\n",
    "      bmat += np.multiply(l, np.dot(sub, sub.T))\n",
    "\n",
    "  # Center class matrix \n",
    "  # Zi matrix is 5 x 10304\n",
    "  zmat = []\n",
    "  for d in cdata:\n",
    "    zmat.append(center_function(d))\n",
    "  \n",
    "  # Class scatter matrix \n",
    "  # S matrix is 10304 x 10304\n",
    "  s_tot = np.zeros((features, features))\n",
    "  for zi in zmat:\n",
    "    s_tot += np.dot(zi.T, zi)\n",
    " \n",
    "  # Compute dominant eigenvector\n",
    "  eval, evec = np.linalg.eigh(np.dot(np.linalg.inv(s_tot), bmat))\n",
    "\n",
    "  # Return the 39 dominant eigenvectors and the mean\n",
    "  idx = eval.argsort()[::-1]\n",
    "  eva = eval[idx]\n",
    "  eve = evec[:,idx]\n",
    "  dom_arr = eve[:,:dom]\n",
    "  \n",
    "  return dom_arr.T"
   ]
  },
  {
   "cell_type": "code",
   "execution_count": 8,
   "metadata": {},
   "outputs": [],
   "source": [
    "pj_mat = lda(d, 5, 39, 40, 10304)"
   ]
  },
  {
   "cell_type": "code",
   "execution_count": 9,
   "metadata": {},
   "outputs": [
    {
     "data": {
      "text/plain": [
       "(39, 10304)"
      ]
     },
     "execution_count": 9,
     "metadata": {},
     "output_type": "execute_result"
    }
   ],
   "source": [
    "pj_mat.shape"
   ]
  },
  {
   "cell_type": "code",
   "execution_count": 10,
   "metadata": {},
   "outputs": [
    {
     "data": {
      "text/plain": [
       "(200, 10304)"
      ]
     },
     "execution_count": 10,
     "metadata": {},
     "output_type": "execute_result"
    }
   ],
   "source": [
    "d.shape"
   ]
  },
  {
   "cell_type": "code",
   "execution_count": 11,
   "metadata": {},
   "outputs": [
    {
     "data": {
      "text/plain": [
       "(200, 39)"
      ]
     },
     "execution_count": 11,
     "metadata": {},
     "output_type": "execute_result"
    }
   ],
   "source": [
    "new_train = np.dot(training_data, pj_mat.T)\n",
    "new_train.shape"
   ]
  },
  {
   "cell_type": "code",
   "execution_count": 12,
   "metadata": {},
   "outputs": [
    {
     "data": {
      "text/plain": [
       "(200, 39)"
      ]
     },
     "execution_count": 12,
     "metadata": {},
     "output_type": "execute_result"
    }
   ],
   "source": [
    "new_test = np.dot(testing_data, pj_mat.T)\n",
    "new_test.shape"
   ]
  },
  {
   "cell_type": "code",
   "execution_count": 13,
   "metadata": {},
   "outputs": [],
   "source": [
    "from sklearn.neighbors import KNeighborsClassifier"
   ]
  },
  {
   "cell_type": "code",
   "execution_count": 14,
   "metadata": {},
   "outputs": [],
   "source": [
    "model_1_lda = KNeighborsClassifier(n_neighbors=1)\n",
    "model_3_lda = KNeighborsClassifier(n_neighbors=3)\n",
    "model_5_lda = KNeighborsClassifier(n_neighbors=5)\n",
    "model_7_lda = KNeighborsClassifier(n_neighbors=7)"
   ]
  },
  {
   "cell_type": "code",
   "execution_count": 15,
   "metadata": {},
   "outputs": [
    {
     "data": {
      "text/plain": [
       "KNeighborsClassifier(n_neighbors=7)"
      ]
     },
     "execution_count": 15,
     "metadata": {},
     "output_type": "execute_result"
    }
   ],
   "source": [
    "model_1_lda.fit(new_train, training_labels)\n",
    "model_3_lda.fit(new_train, training_labels)\n",
    "model_5_lda.fit(new_train, training_labels)\n",
    "model_7_lda.fit(new_train, training_labels)"
   ]
  },
  {
   "cell_type": "code",
   "execution_count": 16,
   "metadata": {},
   "outputs": [
    {
     "data": {
      "text/plain": [
       "array([ 1,  1,  1,  1, 32,  2,  2,  2,  2,  2,  3,  3,  3,  3,  3,  4,  4,\n",
       "        4,  4,  4,  5,  5,  5,  5,  5,  6,  6,  6,  6,  6,  7,  7,  7,  7,\n",
       "        7,  8,  8,  8,  8,  8,  9,  9,  9,  9,  9, 10, 10, 10, 10,  8, 11,\n",
       "       11, 11, 11, 11, 12, 12, 12, 12, 12, 13, 13, 13, 13, 13, 14, 14, 14,\n",
       "       14, 14, 15, 15, 15, 15, 15, 16, 16, 16, 16, 16, 17, 17, 17, 17, 17,\n",
       "       18, 18, 18, 18, 18, 19, 19, 19, 19, 19, 20, 20, 20, 20, 20, 21, 21,\n",
       "       21, 21, 21, 22, 22, 22, 22, 22, 23, 23, 23, 23, 23, 24, 24, 24, 24,\n",
       "       24, 25, 25, 25, 25, 25, 26, 26, 26, 26, 26, 27, 27, 27, 27, 27, 28,\n",
       "       28, 28, 37, 28, 29, 29, 29, 29, 29, 30, 30, 30, 30, 30, 31, 31, 31,\n",
       "       31, 31, 32, 32, 32, 32, 32, 33, 33, 33, 33, 33, 34, 34, 34, 34, 34,\n",
       "        5, 15, 35, 25, 40, 36, 36, 36, 36, 17, 37, 37, 37, 37, 37, 38, 38,\n",
       "       38, 23, 38, 39, 39, 39, 39, 39, 40,  5, 40, 40,  5])"
      ]
     },
     "execution_count": 16,
     "metadata": {},
     "output_type": "execute_result"
    }
   ],
   "source": [
    "pred_model_1_lda = model_1_lda.predict(new_test)\n",
    "pred_model_3_lda = model_3_lda.predict(new_test)\n",
    "pred_model_5_lda = model_5_lda.predict(new_test)\n",
    "pred_model_7_lda = model_7_lda.predict(new_test)\n",
    "pred_model_1_lda"
   ]
  },
  {
   "cell_type": "code",
   "execution_count": 17,
   "metadata": {},
   "outputs": [
    {
     "data": {
      "text/plain": [
       "array([ 1,  1,  1,  1,  1,  2,  2,  2,  2,  2,  3,  3,  3,  3,  3,  4,  4,\n",
       "        4,  4,  4,  5,  5,  5,  5,  5,  6,  6,  6,  6,  6,  7,  7,  7,  7,\n",
       "        7,  8,  8,  8,  8,  8,  9,  9,  9,  9,  9, 10, 10, 10, 10, 10, 11,\n",
       "       11, 11, 11, 11, 12, 12, 12, 12, 12, 13, 13, 13, 13, 13, 14, 14, 14,\n",
       "       14, 14, 15, 15, 15, 15, 15, 16, 16, 16, 16, 16, 17, 17, 17, 17, 17,\n",
       "       18, 18, 18, 18, 18, 19, 19, 19, 19, 19, 20, 20, 20, 20, 20, 21, 21,\n",
       "       21, 21, 21, 22, 22, 22, 22, 22, 23, 23, 23, 23, 23, 24, 24, 24, 24,\n",
       "       24, 25, 25, 25, 25, 25, 26, 26, 26, 26, 26, 27, 27, 27, 27, 27, 28,\n",
       "       28, 28, 28, 28, 29, 29, 29, 29, 29, 30, 30, 30, 30, 30, 31, 31, 31,\n",
       "       31, 31, 32, 32, 32, 32, 32, 33, 33, 33, 33, 33, 34, 34, 34, 34, 34,\n",
       "       35, 35, 35, 35, 35, 36, 36, 36, 36, 36, 37, 37, 37, 37, 37, 38, 38,\n",
       "       38, 38, 38, 39, 39, 39, 39, 39, 40, 40, 40, 40, 40])"
      ]
     },
     "execution_count": 17,
     "metadata": {},
     "output_type": "execute_result"
    }
   ],
   "source": [
    "testing_labels"
   ]
  },
  {
   "cell_type": "code",
   "execution_count": 20,
   "metadata": {},
   "outputs": [
    {
     "name": "stdout",
     "output_type": "stream",
     "text": [
      "0.945\n",
      "0.885\n",
      "0.83\n",
      "0.785\n"
     ]
    }
   ],
   "source": [
    "from sklearn.metrics import accuracy_score\n",
    "acc_1_lda = accuracy_score(testing_labels, pred_model_1_lda)\n",
    "acc_3_lda = accuracy_score(testing_labels, pred_model_3_lda)\n",
    "acc_5_lda = accuracy_score(testing_labels, pred_model_5_lda)\n",
    "acc_7_lda = accuracy_score(testing_labels, pred_model_7_lda)\n",
    "print(acc_1_lda)\n",
    "print(acc_3_lda)\n",
    "print(acc_5_lda)\n",
    "print(acc_7_lda)"
   ]
  },
  {
   "cell_type": "code",
   "execution_count": null,
   "metadata": {},
   "outputs": [],
   "source": []
  },
  {
   "cell_type": "markdown",
   "metadata": {},
   "source": [
    "# 6. Classifier Tuning "
   ]
  },
  {
   "cell_type": "code",
   "execution_count": null,
   "metadata": {},
   "outputs": [],
   "source": []
  },
  {
   "cell_type": "markdown",
   "metadata": {},
   "source": [
    "# 7. Compare vs Non-Face Images"
   ]
  },
  {
   "cell_type": "code",
   "execution_count": null,
   "metadata": {},
   "outputs": [],
   "source": []
  },
  {
   "cell_type": "code",
   "execution_count": null,
   "metadata": {},
   "outputs": [],
   "source": []
  },
  {
   "cell_type": "markdown",
   "metadata": {},
   "source": [
    "# 8. Bonus "
   ]
  },
  {
   "cell_type": "code",
   "execution_count": null,
   "metadata": {},
   "outputs": [],
   "source": []
  }
 ],
 "metadata": {
  "interpreter": {
   "hash": "384275cc682b8282d78d926a1c30ea86f5d409f6a82816c5f6672e2be770768b"
  },
  "kernelspec": {
   "display_name": "Python 3.9.7 ('base')",
   "language": "python",
   "name": "python3"
  },
  "language_info": {
   "codemirror_mode": {
    "name": "ipython",
    "version": 3
   },
   "file_extension": ".py",
   "mimetype": "text/x-python",
   "name": "python",
   "nbconvert_exporter": "python",
   "pygments_lexer": "ipython3",
   "version": "3.9.7"
  },
  "orig_nbformat": 4
 },
 "nbformat": 4,
 "nbformat_minor": 2
}
