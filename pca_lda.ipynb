{
 "cells": [
  {
   "cell_type": "code",
   "execution_count": 3,
   "metadata": {},
   "outputs": [],
   "source": [
    "import numpy as np\n"
   ]
  },
  {
   "cell_type": "markdown",
   "metadata": {},
   "source": [
    "# 1. Download the Dataset and Understand the Format"
   ]
  },
  {
   "cell_type": "code",
   "execution_count": 4,
   "metadata": {},
   "outputs": [],
   "source": []
  },
  {
   "cell_type": "code",
   "execution_count": 5,
   "metadata": {},
   "outputs": [],
   "source": []
  },
  {
   "cell_type": "code",
   "execution_count": 6,
   "metadata": {},
   "outputs": [
    {
     "name": "stdout",
     "output_type": "stream",
     "text": [
      "400\n"
     ]
    }
   ],
   "source": []
  },
  {
   "cell_type": "markdown",
   "metadata": {},
   "source": [
    "# 2. Generate the Data Matrix and the Label vector"
   ]
  },
  {
   "cell_type": "code",
   "execution_count": 7,
   "metadata": {},
   "outputs": [
    {
     "name": "stdout",
     "output_type": "stream",
     "text": [
      "200\n"
     ]
    }
   ],
   "source": []
  },
  {
   "cell_type": "code",
   "execution_count": 8,
   "metadata": {},
   "outputs": [],
   "source": []
  },
  {
   "cell_type": "code",
   "execution_count": 9,
   "metadata": {},
   "outputs": [
    {
     "name": "stdout",
     "output_type": "stream",
     "text": [
      "200\n"
     ]
    }
   ],
   "source": []
  },
  {
   "cell_type": "markdown",
   "metadata": {},
   "source": [
    "# 3. Split the Dataset into Training and Test sets"
   ]
  },
  {
   "cell_type": "code",
   "execution_count": 38,
   "metadata": {},
   "outputs": [],
   "source": []
  },
  {
   "cell_type": "markdown",
   "metadata": {},
   "source": [
    "# 4. Classification using PCA"
   ]
  },
  {
   "cell_type": "code",
   "execution_count": null,
   "metadata": {},
   "outputs": [],
   "source": []
  },
  {
   "cell_type": "code",
   "execution_count": null,
   "metadata": {},
   "outputs": [],
   "source": []
  },
  {
   "cell_type": "markdown",
   "metadata": {},
   "source": [
    "# 5. Classification Using LDA "
   ]
  },
  {
   "cell_type": "code",
   "execution_count": 10,
   "metadata": {},
   "outputs": [],
   "source": [
    "def center_function(d):\n",
    "    m = np.mean(d, axis=0)\n",
    "    return np.subtract(d, m)"
   ]
  },
  {
   "cell_type": "code",
   "execution_count": 11,
   "metadata": {},
   "outputs": [],
   "source": [
    "def lda(data, l, dom, n_class, features):\n",
    "  # Calculate the mean of feature for every class\n",
    "  # Mean matrix is 10304x1 dim\n",
    "  cdata = []\n",
    "  for i in range(0, len(data), l):\n",
    "    cdata.append(data[i:i+l])\n",
    "  mean_c = []\n",
    "  for i in range(n_class):\n",
    "    mean_c.append(np.mean(cdata[i], axis=0))\n",
    "  tmean = np.mean(data, axis=0) \n",
    "\n",
    "  # Calculate between-class scatter matrix\n",
    "  # B matrix is 10304 x 10304\n",
    "  bmat = np.zeros((features, features))\n",
    "  tm = tmean[:, np.newaxis]\n",
    "  for i in range(n_class):\n",
    "    mc = mean_c[i][:, np.newaxis]\n",
    "    sub = np.subtract(mc, tm)\n",
    "    bmat += np.multiply(l, np.dot(sub, sub.T))\n",
    "\n",
    "  # Center class matrix \n",
    "  # Zi matrix is 5 x 10304\n",
    "  zmat = []\n",
    "  for d in cdata:\n",
    "    zmat.append(center_function(d))\n",
    "  \n",
    "  # Class scatter matrix \n",
    "  # S matrix is 10304 x 10304\n",
    "  s_tot = np.zeros((features, features))\n",
    "  for zi in zmat:\n",
    "    s_tot += np.dot(zi.T, zi)\n",
    " \n",
    "  # Compute dominant eigenvector\n",
    "  eval, evec = np.linalg.eigh(np.dot(np.linalg.inv(s_tot), bmat))\n",
    "\n",
    "  # Return the 39 dominant eigenvectors and the mean\n",
    "  idx = eval.argsort()[::-1]\n",
    "  eva = eval[idx]\n",
    "  eve = evec[:,idx]\n",
    "  dom_arr = eve[:,:dom]\n",
    "  \n",
    "  return dom_arr.T"
   ]
  },
  {
   "cell_type": "code",
   "execution_count": null,
   "metadata": {},
   "outputs": [],
   "source": [
    "pj_mat = lda(d1, 5, 39, 40, 10304)"
   ]
  },
  {
   "cell_type": "code",
   "execution_count": 32,
   "metadata": {},
   "outputs": [],
   "source": [
    "pj_mat.shape"
   ]
  },
  {
   "cell_type": "code",
   "execution_count": 2,
   "metadata": {},
   "outputs": [],
   "source": [
    "data1.shape"
   ]
  },
  {
   "cell_type": "code",
   "execution_count": null,
   "metadata": {},
   "outputs": [],
   "source": [
    "new_d1 = np.dot(data1, pj_mat.T)\n",
    "new_d1.shape"
   ]
  },
  {
   "cell_type": "code",
   "execution_count": null,
   "metadata": {},
   "outputs": [],
   "source": [
    "new_d2 = np.dot(data2, pj_mat.T)\n",
    "new_d2.shape"
   ]
  },
  {
   "cell_type": "code",
   "execution_count": null,
   "metadata": {},
   "outputs": [],
   "source": [
    "from sklearn.neighbors import KNeighborsClassifier"
   ]
  },
  {
   "cell_type": "code",
   "execution_count": null,
   "metadata": {},
   "outputs": [],
   "source": [
    "model_1_lda = KNeighborsClassifier(n_neighbors=1)\n",
    "model_3_lda = KNeighborsClassifier(n_neighbors=3)\n",
    "model_5_lda = KNeighborsClassifier(n_neighbors=5)\n",
    "model_7_lda = KNeighborsClassifier(n_neighbors=7)"
   ]
  },
  {
   "cell_type": "code",
   "execution_count": null,
   "metadata": {},
   "outputs": [],
   "source": [
    "model_1_lda.fit(new_d1, label1)\n",
    "model_3_lda.fit(new_d1, label1)\n",
    "model_5_lda.fit(new_d1, label1)\n",
    "model_7_lda.fit(new_d1, label1)"
   ]
  },
  {
   "cell_type": "code",
   "execution_count": null,
   "metadata": {},
   "outputs": [],
   "source": [
    "model_1_lda.predict(new_d2)"
   ]
  },
  {
   "cell_type": "code",
   "execution_count": null,
   "metadata": {},
   "outputs": [],
   "source": [
    "label2"
   ]
  },
  {
   "cell_type": "markdown",
   "metadata": {},
   "source": [
    "# 6. Classifier Tuning "
   ]
  },
  {
   "cell_type": "code",
   "execution_count": null,
   "metadata": {},
   "outputs": [],
   "source": []
  },
  {
   "cell_type": "markdown",
   "metadata": {},
   "source": [
    "# 7. Compare vs Non-Face Images"
   ]
  },
  {
   "cell_type": "code",
   "execution_count": null,
   "metadata": {},
   "outputs": [],
   "source": []
  },
  {
   "cell_type": "code",
   "execution_count": null,
   "metadata": {},
   "outputs": [],
   "source": []
  },
  {
   "cell_type": "markdown",
   "metadata": {},
   "source": [
    "# 8. Bonus "
   ]
  },
  {
   "cell_type": "code",
   "execution_count": null,
   "metadata": {},
   "outputs": [],
   "source": []
  }
 ],
 "metadata": {
  "interpreter": {
   "hash": "384275cc682b8282d78d926a1c30ea86f5d409f6a82816c5f6672e2be770768b"
  },
  "kernelspec": {
   "display_name": "Python 3.9.7 ('base')",
   "language": "python",
   "name": "python3"
  },
  "language_info": {
   "codemirror_mode": {
    "name": "ipython",
    "version": 3
   },
   "file_extension": ".py",
   "mimetype": "text/x-python",
   "name": "python",
   "nbconvert_exporter": "python",
   "pygments_lexer": "ipython3",
   "version": "3.9.7"
  },
  "orig_nbformat": 4
 },
 "nbformat": 4,
 "nbformat_minor": 2
}
