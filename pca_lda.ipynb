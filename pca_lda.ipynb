{
 "cells": [
  {
   "cell_type": "code",
   "execution_count": 42,
   "metadata": {},
   "outputs": [],
   "source": [
    "import numpy as np\n",
    "import PIL\n",
    "from PIL import Image\n",
    "from sklearn import datasets\n",
    "from sklearn.model_selection import train_test_split\n",
    "from sklearn.neighbors import KNeighborsClassifier\n",
    "from sklearn.metrics import accuracy_score"
   ]
  },
  {
   "cell_type": "code",
   "execution_count": 28,
   "metadata": {},
   "outputs": [
    {
     "name": "stdout",
     "output_type": "stream",
     "text": [
      "[[1, 1, 3], [2, 2, 1], [3, 3, 2]]\n",
      "[2. 2. 2.]\n"
     ]
    }
   ],
   "source": [
    "arr = [[1, 1, 3], [2, 2, 1], [3, 3, 2]]\n",
    "print(arr)\n",
    "print(np.mean(np.array(arr)[0:3, :], axis=0))"
   ]
  },
  {
   "cell_type": "markdown",
   "metadata": {},
   "source": [
    "# 1. Download the Dataset and Understand the Format"
   ]
  },
  {
   "cell_type": "code",
   "execution_count": 2,
   "metadata": {},
   "outputs": [],
   "source": [
    "#Downloaded in the project directory"
   ]
  },
  {
   "cell_type": "markdown",
   "metadata": {},
   "source": [
    "# 2. Generate the Data Matrix and the Label vector"
   ]
  },
  {
   "cell_type": "code",
   "execution_count": 3,
   "metadata": {},
   "outputs": [],
   "source": [
    "i = 0\n",
    "s = 1\n",
    "x = 1\n",
    "d = [0] * 400\n",
    "y = [0] * 400\n",
    "\n",
    "while i < 400:\n",
    "  image = PIL.Image.open(\"dataset/s\" + str(s) + \"/\" + str(x) + \".pgm\")\n",
    "  image_sequence = image.getdata()\n",
    "  image_array = np.array(image_sequence)\n",
    "  d[i] = image_array\n",
    "  y[i] = s\n",
    "  i = i + 1\n",
    "  x = x + 1\n",
    "  if x == 11:\n",
    "    s = s + 1\n",
    "    x = 1"
   ]
  },
  {
   "cell_type": "markdown",
   "metadata": {},
   "source": [
    "# 3. Split the Dataset into Training and Test sets"
   ]
  },
  {
   "cell_type": "code",
   "execution_count": 4,
   "metadata": {},
   "outputs": [],
   "source": [
    "training_data = [0] * 200\n",
    "testing_data = [0] * 200\n",
    "training_labels = [0] * 200\n",
    "testing_labels = [0] * 200\n",
    "curr_index = 0"
   ]
  },
  {
   "cell_type": "code",
   "execution_count": 5,
   "metadata": {},
   "outputs": [],
   "source": [
    "for i in range(1, 400, 2):\n",
    "  curr_index = int(i / 2);\n",
    "  testing_data[curr_index] = d[i]\n",
    "  testing_labels[curr_index] = y[i]\n",
    "  training_data[curr_index] = d[i - 1]\n",
    "  training_labels[curr_index] = y[i - 1]\n",
    "\n",
    "testing_data = np.array(testing_data)\n",
    "testing_labels = np.array(testing_labels)\n",
    "training_data = np.array(training_data)\n",
    "training_labels = np.array(training_labels)"
   ]
  },
  {
   "cell_type": "markdown",
   "metadata": {},
   "source": [
    "# 4. Classification using PCA"
   ]
  },
  {
   "cell_type": "markdown",
   "metadata": {},
   "source": [
    "## Declaring variables"
   ]
  },
  {
   "cell_type": "code",
   "execution_count": 7,
   "metadata": {},
   "outputs": [],
   "source": [
    "alpha = [0.8, 0.85, 0.9, 0.95]\n",
    "n = len(testing_data[0])"
   ]
  },
  {
   "cell_type": "markdown",
   "metadata": {},
   "source": [
    "## Calculating centered data, covariance matrix, eigen values, and eigen vectors"
   ]
  },
  {
   "cell_type": "code",
   "execution_count": 8,
   "metadata": {},
   "outputs": [],
   "source": [
    "attributes_means = np.mean(training_data, axis=0)\n",
    "Z = np.subtract(training_data, attributes_means.T)\n",
    "cov_matrix = np.cov(Z.T)\n",
    "eval, evec = np.linalg.eigh(cov_matrix)"
   ]
  },
  {
   "cell_type": "code",
   "execution_count": 9,
   "metadata": {},
   "outputs": [],
   "source": [
    "idx = eval.argsort()[::-1]\n",
    "eva = eval[idx]\n",
    "eve = evec[:,idx]\n",
    "eval_sum = np.sum(eval)"
   ]
  },
  {
   "cell_type": "markdown",
   "metadata": {},
   "source": [
    "## Calculating reduced basis"
   ]
  },
  {
   "cell_type": "code",
   "execution_count": 10,
   "metadata": {},
   "outputs": [],
   "source": [
    "reduced_basis = []\n",
    "for curr_alpha in alpha:\n",
    "    dimensionality = 0\n",
    "    curr_eval_sum = 0\n",
    "    for curr_eval in idx:\n",
    "        dimensionality += 1\n",
    "        curr_eval_sum += curr_eval\n",
    "        if curr_eval_sum / eval_sum >= curr_alpha:\n",
    "            break\n",
    "    \n",
    "    reduced_basis.append(eve[:, :dimensionality])"
   ]
  },
  {
   "cell_type": "markdown",
   "metadata": {},
   "source": [
    "## Declaring the models"
   ]
  },
  {
   "cell_type": "code",
   "execution_count": 44,
   "metadata": {},
   "outputs": [],
   "source": [
    "model_1_pca = KNeighborsClassifier(n_neighbors=1)\n",
    "model_3_pca = KNeighborsClassifier(n_neighbors=3)\n",
    "model_5_pca = KNeighborsClassifier(n_neighbors=5)\n",
    "model_7_pca = KNeighborsClassifier(n_neighbors=7)\n",
    "models = [model_1_pca, model_3_pca, model_5_pca, model_7_pca]"
   ]
  },
  {
   "cell_type": "markdown",
   "metadata": {},
   "source": [
    "## Classifying the images"
   ]
  },
  {
   "cell_type": "code",
   "execution_count": 53,
   "metadata": {},
   "outputs": [
    {
     "name": "stdout",
     "output_type": "stream",
     "text": [
      "When alpha = 0.8\n",
      "     K-NN classifier = 1\n",
      "         Accuracy is: 0.94\n",
      "     K-NN classifier = 3\n",
      "         Accuracy is: 0.895\n",
      "     K-NN classifier = 5\n",
      "         Accuracy is: 0.845\n",
      "     K-NN classifier = 7\n",
      "         Accuracy is: 0.74\n",
      "**********************\n",
      "When alpha = 0.85\n",
      "     K-NN classifier = 1\n",
      "         Accuracy is: 0.94\n",
      "     K-NN classifier = 3\n",
      "         Accuracy is: 0.895\n",
      "     K-NN classifier = 5\n",
      "         Accuracy is: 0.845\n",
      "     K-NN classifier = 7\n",
      "         Accuracy is: 0.74\n",
      "**********************\n",
      "When alpha = 0.9\n",
      "     K-NN classifier = 1\n",
      "         Accuracy is: 0.94\n",
      "     K-NN classifier = 3\n",
      "         Accuracy is: 0.895\n",
      "     K-NN classifier = 5\n",
      "         Accuracy is: 0.845\n",
      "     K-NN classifier = 7\n",
      "         Accuracy is: 0.74\n",
      "**********************\n",
      "When alpha = 0.95\n",
      "     K-NN classifier = 1\n",
      "         Accuracy is: 0.94\n",
      "     K-NN classifier = 3\n",
      "         Accuracy is: 0.895\n",
      "     K-NN classifier = 5\n",
      "         Accuracy is: 0.845\n",
      "     K-NN classifier = 7\n",
      "         Accuracy is: 0.74\n",
      "**********************\n"
     ]
    }
   ],
   "source": [
    "for i in range(len(alpha)):\n",
    "    reduced_dim_data = np.dot(training_data, reduced_basis[i])\n",
    "    reduced_din_test = np.dot(testing_data, reduced_basis[i])\n",
    "    \n",
    "    model_1_pca.fit(reduced_dim_data, training_labels)\n",
    "    model_3_pca.fit(reduced_dim_data, training_labels)\n",
    "    model_5_pca.fit(reduced_dim_data, training_labels)\n",
    "    model_7_pca.fit(reduced_dim_data, training_labels)\n",
    "    \n",
    "    print(\"When alpha = \" + str(alpha[i]))\n",
    "    for k in range(1, 8, 2):\n",
    "        print(\"     K-NN classifier = \" + str(k))\n",
    "        pred_model = models[int(k / 2)].predict(reduced_din_test)\n",
    "        print(\"         Accuracy is: \" + str(accuracy_score(testing_labels, pred_model)))\n",
    "        \n",
    "    print(\"**********************\")\n",
    "            "
   ]
  },
  {
   "cell_type": "markdown",
   "metadata": {},
   "source": [
    "# 5. Classification Using LDA "
   ]
  },
  {
   "cell_type": "code",
   "execution_count": null,
   "metadata": {},
   "outputs": [],
   "source": []
  },
  {
   "cell_type": "markdown",
   "metadata": {},
   "source": [
    "# 6. Classifier Tuning "
   ]
  },
  {
   "cell_type": "code",
   "execution_count": null,
   "metadata": {},
   "outputs": [],
   "source": []
  },
  {
   "cell_type": "markdown",
   "metadata": {},
   "source": [
    "# 7. Compare vs Non-Face Images"
   ]
  },
  {
   "cell_type": "code",
   "execution_count": null,
   "metadata": {},
   "outputs": [],
   "source": []
  },
  {
   "cell_type": "code",
   "execution_count": null,
   "metadata": {},
   "outputs": [],
   "source": []
  },
  {
   "cell_type": "markdown",
   "metadata": {},
   "source": [
    "# 8. Bonus "
   ]
  },
  {
   "cell_type": "code",
   "execution_count": null,
   "metadata": {},
   "outputs": [],
   "source": []
  }
 ],
 "metadata": {
  "interpreter": {
   "hash": "384275cc682b8282d78d926a1c30ea86f5d409f6a82816c5f6672e2be770768b"
  },
  "kernelspec": {
   "display_name": "Python 3.9.7 ('base')",
   "language": "python",
   "name": "python3"
  },
  "language_info": {
   "codemirror_mode": {
    "name": "ipython",
    "version": 3
   },
   "file_extension": ".py",
   "mimetype": "text/x-python",
   "name": "python",
   "nbconvert_exporter": "python",
   "pygments_lexer": "ipython3",
   "version": "3.9.7"
  },
  "orig_nbformat": 4
 },
 "nbformat": 4,
 "nbformat_minor": 2
}
